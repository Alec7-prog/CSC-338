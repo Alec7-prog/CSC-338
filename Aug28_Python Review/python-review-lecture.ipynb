{
 "cells": [
  {
   "cell_type": "markdown",
   "id": "60bef415",
   "metadata": {},
   "source": [
    "CSC/MAT-338\n",
    "Python Review Class Activity"
   ]
  },
  {
   "cell_type": "markdown",
   "id": "ddabcb86",
   "metadata": {},
   "source": [
    "Activity 1: Data Types"
   ]
  },
  {
   "cell_type": "code",
   "execution_count": null,
   "id": "c74029d1",
   "metadata": {},
   "outputs": [],
   "source": []
  },
  {
   "cell_type": "markdown",
   "id": "53114241",
   "metadata": {
    "vscode": {
     "languageId": "plaintext"
    }
   },
   "source": [
    "Activity 2: String concatenation and F-strings"
   ]
  },
  {
   "cell_type": "code",
   "execution_count": null,
   "id": "6517786f",
   "metadata": {},
   "outputs": [],
   "source": []
  },
  {
   "cell_type": "markdown",
   "id": "cac0c177",
   "metadata": {},
   "source": [
    "Activity 3: Control Structures"
   ]
  },
  {
   "cell_type": "code",
   "execution_count": null,
   "id": "5220e020",
   "metadata": {},
   "outputs": [],
   "source": []
  },
  {
   "cell_type": "markdown",
   "id": "f45d518e",
   "metadata": {},
   "source": [
    "Activity 4: Object-oriented programming"
   ]
  },
  {
   "cell_type": "code",
   "execution_count": null,
   "id": "d935ce19",
   "metadata": {},
   "outputs": [],
   "source": []
  }
 ],
 "metadata": {
  "language_info": {
   "name": "python"
  }
 },
 "nbformat": 4,
 "nbformat_minor": 5
}
